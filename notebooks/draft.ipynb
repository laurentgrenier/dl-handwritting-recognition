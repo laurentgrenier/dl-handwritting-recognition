{
 "cells": [
  {
   "cell_type": "code",
   "execution_count": 1,
   "metadata": {},
   "outputs": [
    {
     "data": {
      "text/html": [
       "<style>.container { width:1280px !important; }</style>"
      ],
      "text/plain": [
       "<IPython.core.display.HTML object>"
      ]
     },
     "metadata": {},
     "output_type": "display_data"
    }
   ],
   "source": [
    "import tensorflow as tf\n",
    "import numpy as np\n",
    "import cv2\n",
    "%run \"./config/notebook.ipynb\"\n",
    "%run \"./config/local.ipynb\"\n",
    "%run \"./config/values.ipynb\""
   ]
  },
  {
   "cell_type": "markdown",
   "metadata": {},
   "source": [
    "## Loading data"
   ]
  },
  {
   "cell_type": "code",
   "execution_count": 2,
   "metadata": {},
   "outputs": [],
   "source": [
    "mnist = tf.keras.datasets.mnist\n",
    "(X_train, y_train), (X_test, y_test) = mnist.load_data()"
   ]
  },
  {
   "cell_type": "markdown",
   "metadata": {},
   "source": [
    "## Displaying features"
   ]
  },
  {
   "cell_type": "code",
   "execution_count": 3,
   "metadata": {},
   "outputs": [
    {
     "data": {
      "image/png": "[encoded data removed]",
      "text/plain": [
       "<Figure size 1152x1152 with 24 Axes>"
      ]
     },
     "metadata": {
      "needs_background": "light"
     },
     "output_type": "display_data"
    }
   ],
   "source": [
    "from random import randint\n",
    "import numpy as np\n",
    "import matplotlib.pyplot as plt\n",
    "grid_size = (4,6)\n",
    "\n",
    "plt.figure(figsize=(16,16))\n",
    "\n",
    "indexes = np.random.choice(range(len(X_train)), size=grid_size[0]*grid_size[1], replace=False)\n",
    "\n",
    "for i in range(grid_size[0]*grid_size[1]):\n",
    "    plt.subplot(grid_size[0],grid_size[1],i+1)\n",
    "    \n",
    "    # idx = randint(0,len(X_train))\n",
    "    idx = indexes[i]\n",
    "    img = X_train[idx]\n",
    "    # img = np.array(char).reshape(IMAGE_ORIGINAL_SIZE) \n",
    "\n",
    "    import matplotlib.pyplot as plt\n",
    "    plt.imshow(img, cmap='gray', vmin=0, vmax=255)\n",
    "    plt.title(y_train[idx])\n",
    "    plt.axis('off')\n",
    "    \n",
    "plt.show()"
   ]
  },
  {
   "cell_type": "markdown",
   "metadata": {},
   "source": [
    "## Set data generator"
   ]
  },
  {
   "cell_type": "code",
   "execution_count": 6,
   "metadata": {},
   "outputs": [],
   "source": [
    "def generator(batch_size=20, target_size=(128,128), classname='vowel_diacritic'):\n",
    "    while 1:\n",
    "        # select indexes\n",
    "        idxs = [i for i in range(len(X_train))]\n",
    "        np.random.shuffle(idxs)\n",
    "        idxs = idxs[:batch_size]\n",
    "        \n",
    "        data = np.zeros((batch_size, target_size[0], target_size[1], 1))\n",
    "        labels = np.zeros((batch_size, len(np.unique(y_train))))\n",
    "        # read the image\n",
    "        for i in range(len(idxs)):\n",
    "            img = X_train[idxs[i]]\n",
    "            img = img.reshape(img.shape + (1,))            \n",
    "            data[i] = img / 255.\n",
    "            \n",
    "            labels[i,y_train[idxs[i]]] = 1\n",
    "        \n",
    "        yield data, labels\n",
    "\n",
    "train_generator = generator(target_size=(28,28))\n",
    "validation_generator = generator(target_size=(28,28))"
   ]
  },
  {
   "cell_type": "markdown",
   "metadata": {},
   "source": [
    "## Model"
   ]
  },
  {
   "cell_type": "markdown",
   "metadata": {},
   "source": [
    "### Architecture"
   ]
  },
  {
   "cell_type": "code",
   "execution_count": 7,
   "metadata": {},
   "outputs": [
    {
     "name": "stdout",
     "output_type": "stream",
     "text": [
      "_________________________________________________________________\n",
      "Layer (type)                 Output Shape              Param #   \n",
      "=================================================================\n",
      "conv2d_3 (Conv2D)            (None, 26, 26, 32)        320       \n",
      "_________________________________________________________________\n",
      "max_pooling2d_3 (MaxPooling2 (None, 13, 13, 32)        0         \n",
      "_________________________________________________________________\n",
      "conv2d_4 (Conv2D)            (None, 11, 11, 64)        18496     \n",
      "_________________________________________________________________\n",
      "max_pooling2d_4 (MaxPooling2 (None, 5, 5, 64)          0         \n",
      "_________________________________________________________________\n",
      "flatten_2 (Flatten)          (None, 1600)              0         \n",
      "_________________________________________________________________\n",
      "dense_3 (Dense)              (None, 100)               160100    \n",
      "_________________________________________________________________\n",
      "dense_4 (Dense)              (None, 10)                1010      \n",
      "=================================================================\n",
      "Total params: 179,926\n",
      "Trainable params: 179,926\n",
      "Non-trainable params: 0\n",
      "_________________________________________________________________\n"
     ]
    }
   ],
   "source": [
    "from keras.models import Sequential\n",
    "from keras import layers\n",
    "from keras.optimizers import RMSprop\n",
    "\n",
    "model = Sequential()\n",
    "model.add(layers.Conv2D(32, (3,3), activation='relu', input_shape=(28,28,1)))\n",
    "model.add(layers.MaxPooling2D((2,2)))\n",
    "model.add(layers.Conv2D(64, (3,3), activation='relu'))\n",
    "model.add(layers.MaxPooling2D((2,2)))\n",
    "model.add(layers.Flatten())\n",
    "model.add(layers.Dense(100, activation='relu', kernel_initializer='he_uniform'))\n",
    "model.add(layers.Dense(len(np.unique(y_train)), activation='softmax'))\n",
    "model.summary()\n",
    "\n",
    "model.compile(optimizer=RMSprop(lr=1e-4), metrics=['acc'], loss='categorical_crossentropy')"
   ]
  },
  {
   "cell_type": "markdown",
   "metadata": {},
   "source": [
    "### Train the model"
   ]
  },
  {
   "cell_type": "code",
   "execution_count": 8,
   "metadata": {},
   "outputs": [
    {
     "name": "stdout",
     "output_type": "stream",
     "text": [
      "Epoch 1/40\n",
      "500/500 [==============================] - 5s 9ms/step - loss: 0.9658 - acc: 0.7493 - val_loss: 0.4012 - val_acc: 0.8795\n",
      "Epoch 2/40\n",
      "500/500 [==============================] - 3s 6ms/step - loss: 0.2999 - acc: 0.9135 - val_loss: 0.2406 - val_acc: 0.9270\n",
      "Epoch 3/40\n",
      "500/500 [==============================] - 3s 6ms/step - loss: 0.2131 - acc: 0.9380 - val_loss: 0.2058 - val_acc: 0.9405\n",
      "Epoch 4/40\n",
      "500/500 [==============================] - 3s 6ms/step - loss: 0.1685 - acc: 0.9489 - val_loss: 0.1589 - val_acc: 0.9480\n",
      "Epoch 5/40\n",
      "500/500 [==============================] - 4s 7ms/step - loss: 0.1335 - acc: 0.9588 - val_loss: 0.1460 - val_acc: 0.9550\n",
      "Epoch 6/40\n",
      "500/500 [==============================] - 3s 7ms/step - loss: 0.1327 - acc: 0.9606 - val_loss: 0.1471 - val_acc: 0.9590\n",
      "Epoch 7/40\n",
      "500/500 [==============================] - 3s 7ms/step - loss: 0.1305 - acc: 0.9618 - val_loss: 0.1028 - val_acc: 0.9665\n",
      "Epoch 8/40\n",
      "500/500 [==============================] - 4s 7ms/step - loss: 0.1101 - acc: 0.9665 - val_loss: 0.0983 - val_acc: 0.9700\n",
      "Epoch 9/40\n",
      "500/500 [==============================] - 3s 7ms/step - loss: 0.0984 - acc: 0.9687 - val_loss: 0.0899 - val_acc: 0.9755\n",
      "Epoch 10/40\n",
      "500/500 [==============================] - 3s 7ms/step - loss: 0.0978 - acc: 0.9723 - val_loss: 0.1007 - val_acc: 0.9695\n",
      "Epoch 11/40\n",
      "500/500 [==============================] - 3s 7ms/step - loss: 0.0847 - acc: 0.9752 - val_loss: 0.0650 - val_acc: 0.9785\n",
      "Epoch 12/40\n",
      "500/500 [==============================] - 3s 6ms/step - loss: 0.0832 - acc: 0.9752 - val_loss: 0.0987 - val_acc: 0.9700\n",
      "Epoch 13/40\n",
      "500/500 [==============================] - 3s 7ms/step - loss: 0.0829 - acc: 0.9752 - val_loss: 0.0837 - val_acc: 0.9745\n",
      "Epoch 14/40\n",
      "500/500 [==============================] - 3s 7ms/step - loss: 0.0786 - acc: 0.9772 - val_loss: 0.0613 - val_acc: 0.9820\n",
      "Epoch 15/40\n",
      "500/500 [==============================] - 3s 7ms/step - loss: 0.0768 - acc: 0.9753 - val_loss: 0.0812 - val_acc: 0.9710\n",
      "Epoch 16/40\n",
      "500/500 [==============================] - 3s 7ms/step - loss: 0.0704 - acc: 0.9791 - val_loss: 0.0798 - val_acc: 0.9715\n",
      "Epoch 17/40\n",
      "500/500 [==============================] - 3s 7ms/step - loss: 0.0668 - acc: 0.9784 - val_loss: 0.0817 - val_acc: 0.9745\n",
      "Epoch 18/40\n",
      "500/500 [==============================] - 3s 7ms/step - loss: 0.0661 - acc: 0.9805 - val_loss: 0.0487 - val_acc: 0.9860\n",
      "Epoch 19/40\n",
      "500/500 [==============================] - 3s 7ms/step - loss: 0.0589 - acc: 0.9821 - val_loss: 0.0596 - val_acc: 0.9825\n",
      "Epoch 20/40\n",
      "500/500 [==============================] - 4s 7ms/step - loss: 0.0609 - acc: 0.9810 - val_loss: 0.0537 - val_acc: 0.9840\n",
      "Epoch 21/40\n",
      "500/500 [==============================] - 4s 7ms/step - loss: 0.0575 - acc: 0.9823 - val_loss: 0.0638 - val_acc: 0.9825\n",
      "Epoch 22/40\n",
      "500/500 [==============================] - 3s 7ms/step - loss: 0.0588 - acc: 0.9818 - val_loss: 0.0374 - val_acc: 0.9870\n",
      "Epoch 23/40\n",
      "500/500 [==============================] - 3s 7ms/step - loss: 0.0527 - acc: 0.9844 - val_loss: 0.0474 - val_acc: 0.9850\n",
      "Epoch 24/40\n",
      "500/500 [==============================] - 3s 7ms/step - loss: 0.0556 - acc: 0.9831 - val_loss: 0.0621 - val_acc: 0.9805\n",
      "Epoch 25/40\n",
      "500/500 [==============================] - 4s 8ms/step - loss: 0.0512 - acc: 0.9838 - val_loss: 0.0649 - val_acc: 0.9810\n",
      "Epoch 26/40\n",
      "500/500 [==============================] - 4s 8ms/step - loss: 0.0508 - acc: 0.9848 - val_loss: 0.0585 - val_acc: 0.9825\n",
      "Epoch 27/40\n",
      "500/500 [==============================] - 4s 8ms/step - loss: 0.0462 - acc: 0.9864 - val_loss: 0.0422 - val_acc: 0.9870\n",
      "Epoch 28/40\n",
      "500/500 [==============================] - 4s 7ms/step - loss: 0.0521 - acc: 0.9828 - val_loss: 0.0375 - val_acc: 0.9870\n",
      "Epoch 29/40\n",
      "500/500 [==============================] - 4s 7ms/step - loss: 0.0474 - acc: 0.9853 - val_loss: 0.0517 - val_acc: 0.9860\n",
      "Epoch 30/40\n",
      "500/500 [==============================] - 4s 7ms/step - loss: 0.0537 - acc: 0.9838 - val_loss: 0.0527 - val_acc: 0.9820\n",
      "Epoch 31/40\n",
      "500/500 [==============================] - 4s 7ms/step - loss: 0.0454 - acc: 0.9859 - val_loss: 0.0411 - val_acc: 0.9845\n",
      "Epoch 32/40\n",
      "500/500 [==============================] - 4s 7ms/step - loss: 0.0465 - acc: 0.9862 - val_loss: 0.0595 - val_acc: 0.9840\n",
      "Epoch 33/40\n",
      "500/500 [==============================] - 4s 7ms/step - loss: 0.0397 - acc: 0.9873 - val_loss: 0.0443 - val_acc: 0.9895\n",
      "Epoch 34/40\n",
      "500/500 [==============================] - 4s 8ms/step - loss: 0.0426 - acc: 0.9861 - val_loss: 0.0348 - val_acc: 0.9855\n",
      "Epoch 35/40\n",
      "500/500 [==============================] - 4s 8ms/step - loss: 0.0475 - acc: 0.9864 - val_loss: 0.0307 - val_acc: 0.9910\n",
      "Epoch 36/40\n",
      "500/500 [==============================] - 4s 8ms/step - loss: 0.0388 - acc: 0.9890 - val_loss: 0.0431 - val_acc: 0.9875\n",
      "Epoch 37/40\n",
      "500/500 [==============================] - 4s 8ms/step - loss: 0.0421 - acc: 0.9883 - val_loss: 0.0572 - val_acc: 0.9850\n",
      "Epoch 38/40\n",
      "500/500 [==============================] - 4s 7ms/step - loss: 0.0374 - acc: 0.9881 - val_loss: 0.0249 - val_acc: 0.9935\n",
      "Epoch 39/40\n",
      "500/500 [==============================] - 4s 8ms/step - loss: 0.0312 - acc: 0.9896 - val_loss: 0.0518 - val_acc: 0.9845\n",
      "Epoch 40/40\n",
      "500/500 [==============================] - 4s 8ms/step - loss: 0.0341 - acc: 0.9892 - val_loss: 0.0432 - val_acc: 0.9865\n"
     ]
    }
   ],
   "source": [
    "history = model.fit_generator(train_generator, \n",
    "                             steps_per_epoch=500,\n",
    "                             epochs=40,\n",
    "                             validation_data=validation_generator,\n",
    "                              validation_steps=100)"
   ]
  },
  {
   "cell_type": "markdown",
   "metadata": {},
   "source": [
    "### Save the model"
   ]
  },
  {
   "cell_type": "code",
   "execution_count": 10,
   "metadata": {},
   "outputs": [],
   "source": [
    "model_path = os.path.join(MODELS_DIR, \"basic_nn\" + \".h5\")\n",
    "model.save(model_path)"
   ]
  },
  {
   "cell_type": "markdown",
   "metadata": {},
   "source": [
    "### Load the model"
   ]
  },
  {
   "cell_type": "code",
   "execution_count": null,
   "metadata": {},
   "outputs": [],
   "source": [
    "model_path = os.path.join(MODELS_DIR, \"basic_nn\" + \".h5\")\n",
    "model = load_model(model_path)"
   ]
  },
  {
   "cell_type": "code",
   "execution_count": 6,
   "metadata": {},
   "outputs": [
    {
     "ename": "IndentationError",
     "evalue": "unexpected indent (<ipython-input-6-759664c6b976>, line 2)",
     "output_type": "error",
     "traceback": [
      "\u001b[0;36m  File \u001b[0;32m\"<ipython-input-6-759664c6b976>\"\u001b[0;36m, line \u001b[0;32m2\u001b[0m\n\u001b[0;31m    model.add(Conv2D(32, (3, 3), activation='relu', kernel_initializer='he_uniform', input_shape=(28, 28, 1)))\u001b[0m\n\u001b[0m    ^\u001b[0m\n\u001b[0;31mIndentationError\u001b[0m\u001b[0;31m:\u001b[0m unexpected indent\n"
     ]
    }
   ],
   "source": [
    "\"\"\"\n",
    "model = Sequential()\n",
    "model.add(Conv2D(32, (3, 3), activation='relu', kernel_initializer='he_uniform', input_shape=(28, 28, 1)))\n",
    "model.add(MaxPooling2D((2, 2)))\n",
    "model.add(Flatten())\n",
    "model.add(Dense(100, activation='relu', kernel_initializer='he_uniform'))\n",
    "model.add(Dense(10, activation='softmax'))\n",
    "# compile model\n",
    "opt = SGD(lr=0.01, momentum=0.9)\n",
    "model.compile(optimizer=opt, loss='categorical_crossentropy', metrics=['accuracy'])\n",
    "return model\n",
    "\"\"\""
   ]
  },
  {
   "cell_type": "markdown",
   "metadata": {},
   "source": [
    "### Evaluation"
   ]
  },
  {
   "cell_type": "code",
   "execution_count": 11,
   "metadata": {},
   "outputs": [
    {
     "data": {
      "image/png": "[encoded data removed]",
      "text/plain": [
       "<Figure size 432x288 with 1 Axes>"
      ]
     },
     "metadata": {
      "needs_background": "light"
     },
     "output_type": "display_data"
    },
    {
     "data": {
      "image/png": "[encoded data removed]",
      "text/plain": [
       "<Figure size 432x288 with 1 Axes>"
      ]
     },
     "metadata": {
      "needs_background": "light"
     },
     "output_type": "display_data"
    }
   ],
   "source": [
    "import matplotlib.pyplot as plt\n",
    "\n",
    "\n",
    "loss = history.history['loss']\n",
    "val_loss = history.history['val_loss']\n",
    "\n",
    "acc = history.history['acc']\n",
    "val_acc = history.history['val_acc']\n",
    "\n",
    "epochs = range(1, len(loss) + 1)\n",
    "\n",
    "plt.figure()\n",
    "plt.plot(epochs, loss, 'bo', label='Training loss')\n",
    "plt.plot(epochs, val_loss, 'b', label='Validation loss')\n",
    "plt.title('Training and validation loss')\n",
    "plt.legend()\n",
    "plt.show()\n",
    "\n",
    "plt.figure()\n",
    "plt.plot(epochs, acc, 'bo', label='Training acc')\n",
    "plt.plot(epochs, val_acc, 'b', label='Validation acc')\n",
    "plt.title('Training and validation acc')\n",
    "plt.legend()\n",
    "plt.show()"
   ]
  },
  {
   "cell_type": "markdown",
   "metadata": {},
   "source": [
    "## Predictions"
   ]
  },
  {
   "cell_type": "markdown",
   "metadata": {},
   "source": [
    "### On test data"
   ]
  },
  {
   "cell_type": "code",
   "execution_count": 8,
   "metadata": {},
   "outputs": [
    {
     "data": {
      "image/png": "[encoded data removed]",
      "text/plain": [
       "<Figure size 1152x1152 with 24 Axes>"
      ]
     },
     "metadata": {
      "needs_background": "light"
     },
     "output_type": "display_data"
    }
   ],
   "source": [
    "import random\n",
    "\n",
    "def random_image():\n",
    "    idx = random.randint(0,len(X_test)-1)\n",
    "    img = X_test[idx]    \n",
    "    return img\n",
    "\n",
    "grid_size = (4,6)\n",
    "\n",
    "plt.figure(figsize=(16,16))\n",
    "\n",
    "indexes = np.random.choice(range(len(X_train)), size=grid_size[0]*grid_size[1], replace=False)\n",
    "\n",
    "for i in range(grid_size[0]*grid_size[1]):\n",
    "    plt.subplot(grid_size[0],grid_size[1],i+1)\n",
    "        \n",
    "    img = random_image()\n",
    "    predicted_class = model.predict_classes(img.reshape((1,) + img.shape + (1,)))\n",
    "\n",
    "    plt.imshow(img, cmap='gray', vmin=0, vmax=255)\n",
    "    plt.title(predicted_class[0])\n",
    "    plt.axis('off')\n",
    "    \n",
    "plt.show()\n"
   ]
  },
  {
   "cell_type": "markdown",
   "metadata": {},
   "source": [
    "### On real data"
   ]
  },
  {
   "cell_type": "code",
   "execution_count": 36,
   "metadata": {},
   "outputs": [],
   "source": [
    "img_path = os.path.join(\"/media/laurent/backup/data/handwritting/images\", \"jules_2.png\")\n",
    "img = cv2.imread(img_path, cv2.IMREAD_GRAYSCALE)\n",
    "img = cv2.resize(img, (28,28), interpolation = cv2.INTER_NEAREST)\n",
    "\n",
    "edges = cv2.Canny(img,28,28)\n",
    "enhanced_img = cv2.equalizeHist(img)\n",
    "\n",
    "binimg = img\n",
    "binimg = cv2.bilateralFilter(binimg, 2, 90,16)\n",
    "binimg = cv2.GaussianBlur(binimg,(5,5),0)\n",
    "binimg = cv2.adaptiveThreshold(binimg, 1, cv2.ADAPTIVE_THRESH_MEAN_C, cv2.THRESH_BINARY, 55, -3)\n",
    "\n",
    "gaussimg = img\n",
    "cv2.bilateralFilter(gaussimg, 9, 90,16)\n",
    "gaussimg = cv2.GaussianBlur(gaussimg,(5,5),0)\n",
    "\n",
    "img = img / 255\n",
    "edges = edges / 255\n",
    "enhanced_img = enhanced_img / 255\n",
    "gaussimg = gaussimg / 255\n"
   ]
  },
  {
   "cell_type": "code",
   "execution_count": 37,
   "metadata": {},
   "outputs": [
    {
     "data": {
      "image/png": "[encoded data removed]",
      "text/plain": [
       "<Figure size 1152x1152 with 5 Axes>"
      ]
     },
     "metadata": {
      "needs_background": "light"
     },
     "output_type": "display_data"
    }
   ],
   "source": [
    "predicted_class = model.predict_classes(img.reshape((1,) + img.shape + (1,)))\n",
    "edges_predicted_class = model.predict_classes(edges.reshape((1,) + edges.shape + (1,)))\n",
    "enhanced_predicted_class = model.predict_classes(enhanced_img.reshape((1,) + enhanced_img.shape + (1,)))\n",
    "bin_predicted_class = model.predict_classes(binimg.reshape((1,) + binimg.shape + (1,)))\n",
    "gaussimg_predicted_class = model.predict_classes(gaussimg.reshape((1,) + gaussimg.shape + (1,)))\n",
    "\n",
    "grid_size = (1,5)\n",
    "\n",
    "plt.figure(figsize=(16,16))\n",
    "plt.subplot(grid_size[0],grid_size[1],1)\n",
    "plt.imshow(img, cmap='gray', vmin=0, vmax=1)\n",
    "plt.title(predicted_class[0])\n",
    "plt.axis('off')\n",
    "plt.subplot(grid_size[0],grid_size[1],2)\n",
    "plt.imshow(edges, cmap='gray', vmin=0, vmax=1)\n",
    "plt.title(edges_predicted_class[0])\n",
    "plt.axis('off')\n",
    "plt.subplot(grid_size[0],grid_size[1],3)\n",
    "plt.imshow(enhanced_img, cmap='gray', vmin=0, vmax=1)\n",
    "plt.title(enhanced_predicted_class[0])\n",
    "plt.axis('off')\n",
    "plt.subplot(grid_size[0],grid_size[1],4)\n",
    "plt.imshow(binimg, cmap='gray', vmin=0, vmax=1)\n",
    "plt.title(bin_predicted_class[0])\n",
    "plt.axis('off')\n",
    "plt.subplot(grid_size[0],grid_size[1],5)\n",
    "plt.imshow(gaussimg, cmap='gray', vmin=0, vmax=1)\n",
    "plt.title(gaussimg_predicted_class[0])\n",
    "plt.axis('off')\n",
    "\n",
    "plt.show()"
   ]
  },
  {
   "cell_type": "markdown",
   "metadata": {},
   "source": [
    "## Mixing colors"
   ]
  },
  {
   "cell_type": "code",
   "execution_count": 28,
   "metadata": {},
   "outputs": [
    {
     "name": "stdout",
     "output_type": "stream",
     "text": [
      "(168.68, 59.2, 157.12)\n"
     ]
    },
    {
     "data": {
      "image/png": "[encoded data removed]",
      "text/plain": [
       "<Figure size 288x1152 with 3 Axes>"
      ]
     },
     "metadata": {
      "needs_background": "light"
     },
     "output_type": "display_data"
    }
   ],
   "source": [
    "import matplotlib.pyplot as plt\n",
    "grey = (83,83,83)\n",
    "purple = (209, 48, 192)\n",
    "\n",
    "\n",
    "grey_image = np.zeros((32,32,3)).astype('uint8')\n",
    "grey_image[:,:,:] = grey\n",
    "grey_image = np.dstack((grey_image, np.zeros((grey_image.shape[0],grey_image.shape[1]),dtype=np.uint8)+255))\n",
    "\n",
    "purple_image = np.zeros((32,32,3)).astype('uint8')\n",
    "purple_image[:,:,:] = purple\n",
    "purple_image = np.dstack((purple_image, np.zeros((purple_image.shape[0],purple_image.shape[1]),dtype=np.uint8)+255))\n",
    "\n",
    "alpha_grey = 120\n",
    "alpha_purple = 255\n",
    "\n",
    "melted_image = np.zeros((32,32,3)).astype('uint8')\n",
    "melted = ((grey[0] * alpha_grey + purple[0] * alpha_purple) / (alpha_grey + alpha_purple),\n",
    "          (grey[1] * alpha_grey + purple[1] * alpha_purple) / (alpha_grey + alpha_purple),\n",
    "          (grey[2] * alpha_grey + purple[2] * alpha_purple) / (alpha_grey + alpha_purple))\n",
    "print(melted)\n",
    "melted_image[:,:,:] = melted\n",
    "\n",
    "plt.figure(figsize=(4,16))\n",
    "plt.subplot(1,3,1)\n",
    "plt.imshow(grey_image)\n",
    "plt.axis('off')\n",
    "plt.subplot(1,3,2)\n",
    "plt.imshow(purple_image)\n",
    "plt.axis('off')\n",
    "plt.subplot(1,3,3)\n",
    "plt.imshow(melted_image)\n",
    "plt.axis('off')\n",
    "plt.show()"
   ]
  },
  {
   "cell_type": "code",
   "execution_count": 34,
   "metadata": {},
   "outputs": [
    {
     "data": {
      "text/plain": [
       "array([168,  59, 157], dtype=uint8)"
      ]
     },
     "execution_count": 34,
     "metadata": {},
     "output_type": "execute_result"
    }
   ],
   "source": [
    "grey = np.array([83,83,83])\n",
    "purple = np.array([209, 48, 192])\n",
    "\n",
    "alpha_grey = 120\n",
    "alpha_purple = 255\n",
    "\n",
    "melted = ((grey * alpha_grey + purple * alpha_purple) / (alpha_grey + alpha_purple)).astype('uint8')\n",
    "melted\n",
    "\n"
   ]
  },
  {
   "cell_type": "code",
   "execution_count": 40,
   "metadata": {},
   "outputs": [
    {
     "name": "stdout",
     "output_type": "stream",
     "text": [
      "(32, 32, 1)\n"
     ]
    },
    {
     "ename": "ValueError",
     "evalue": "could not broadcast input array from shape (3) into shape (32,32,1)",
     "output_type": "error",
     "traceback": [
      "\u001b[0;31m---------------------------------------------------------------------------\u001b[0m",
      "\u001b[0;31mValueError\u001b[0m                                Traceback (most recent call last)",
      "\u001b[0;32m<ipython-input-40-672fcdc424b6>\u001b[0m in \u001b[0;36m<module>\u001b[0;34m\u001b[0m\n\u001b[1;32m      2\u001b[0m \u001b[0mtest\u001b[0m \u001b[0;34m=\u001b[0m \u001b[0mnp\u001b[0m\u001b[0;34m.\u001b[0m\u001b[0mzeros\u001b[0m\u001b[0;34m(\u001b[0m\u001b[0;34m(\u001b[0m\u001b[0;36m32\u001b[0m\u001b[0;34m,\u001b[0m\u001b[0;36m32\u001b[0m\u001b[0;34m,\u001b[0m\u001b[0;36m1\u001b[0m\u001b[0;34m)\u001b[0m\u001b[0;34m)\u001b[0m\u001b[0;34m\u001b[0m\u001b[0;34m\u001b[0m\u001b[0m\n\u001b[1;32m      3\u001b[0m \u001b[0mprint\u001b[0m\u001b[0;34m(\u001b[0m\u001b[0mtest\u001b[0m\u001b[0;34m.\u001b[0m\u001b[0mshape\u001b[0m\u001b[0;34m)\u001b[0m\u001b[0;34m\u001b[0m\u001b[0;34m\u001b[0m\u001b[0m\n\u001b[0;32m----> 4\u001b[0;31m \u001b[0mtest\u001b[0m\u001b[0;34m[\u001b[0m\u001b[0;34m:\u001b[0m\u001b[0;34m,\u001b[0m\u001b[0;34m:\u001b[0m\u001b[0;34m,\u001b[0m\u001b[0;34m:\u001b[0m\u001b[0;34m]\u001b[0m \u001b[0;34m=\u001b[0m \u001b[0;34m(\u001b[0m\u001b[0;36m1\u001b[0m\u001b[0;34m,\u001b[0m\u001b[0;36m1\u001b[0m\u001b[0;34m,\u001b[0m\u001b[0;36m1\u001b[0m\u001b[0;34m)\u001b[0m\u001b[0;34m\u001b[0m\u001b[0;34m\u001b[0m\u001b[0m\n\u001b[0m\u001b[1;32m      5\u001b[0m \u001b[0mprint\u001b[0m\u001b[0;34m(\u001b[0m\u001b[0mtest\u001b[0m\u001b[0;34m.\u001b[0m\u001b[0mshape\u001b[0m\u001b[0;34m)\u001b[0m\u001b[0;34m\u001b[0m\u001b[0;34m\u001b[0m\u001b[0m\n",
      "\u001b[0;31mValueError\u001b[0m: could not broadcast input array from shape (3) into shape (32,32,1)"
     ]
    }
   ],
   "source": [
    "import numpy as np\n",
    "test = np.zeros((32,32,3))\n",
    "print(test.shape)\n",
    "test[:,:,:] = (1,1,1)\n",
    "print(test.shape)"
   ]
  },
  {
   "cell_type": "code",
   "execution_count": null,
   "metadata": {},
   "outputs": [],
   "source": []
  }
 ],
 "metadata": {
  "kernelspec": {
   "display_name": "Python 3",
   "language": "python",
   "name": "python3"
  },
  "language_info": {
   "codemirror_mode": {
    "name": "ipython",
    "version": 3
   },
   "file_extension": ".py",
   "mimetype": "text/x-python",
   "name": "python",
   "nbconvert_exporter": "python",
   "pygments_lexer": "ipython3",
   "version": "3.6.9"
  }
 },
 "nbformat": 4,
 "nbformat_minor": 4
}
