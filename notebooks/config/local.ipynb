{
 "cells": [
  {
   "cell_type": "markdown",
   "metadata": {},
   "source": [
    "# Local configuration"
   ]
  },
  {
   "cell_type": "code",
   "execution_count": 3,
   "metadata": {},
   "outputs": [],
   "source": [
    "import os"
   ]
  },
  {
   "cell_type": "code",
   "execution_count": 5,
   "metadata": {
    "pycharm": {
     "name": "#%%\n"
    }
   },
   "outputs": [],
   "source": [
    "PROJECT_NAME = \"handwritting\"\n",
    "DATA_ROOT_DIR = \"/media/laurent/backup/data\"\n",
    "MODELS_ROOT_DIR = \"/media/laurent/backup/models\"\n",
    "\n",
    "# TRAIN_FILE = os.path.join(DATA_DIR, \"train.csv\")\n",
    "# CLASSMAP_FILE = os.path.join(DATA_DIR, \"class_map.csv\")\n",
    "\n",
    "# TRAIN_DIR =  os.path.join(DATA_DIR, \"train\")\n",
    "# TRAIN_IMAGES_DIR =  os.path.join(TRAIN_DIR, \"images\")\n",
    "\n",
    "# VALIDATION_DIR =  os.path.join(DATA_DIR, \"validation\")\n",
    "# VALIDATION_IMAGES_DIR =  os.path.join(VALIDATION_DIR, \"images\")\n",
    "\n",
    "# TEST_DIR =  os.path.join(DATA_DIR, \"test\")\n",
    "# TEST_IMAGES_DIR =  os.path.join(TEST_DIR, \"images\")\n",
    "\n",
    "MODELS_DIR =  os.path.join(MODELS_ROOT_DIR, PROJECT_NAME)\n",
    "FEATURES_DIR = os.path.join(DATA_ROOT_DIR, PROJECT_NAME, \"features\")\n",
    "LABELS_DIR = os.path.join(DATA_ROOT_DIR, PROJECT_NAME, \"labels\")\n",
    "\n",
    "ORIGINAL_FEATURES_DIR = os.path.join(FEATURES_DIR, \"original\")\n",
    "RESIZED_512x512_FEATURES_DIR = os.path.join(FEATURES_DIR, \"512x512\")\n",
    "\n",
    "XML_LABELS_DIR = os.path.join(LABELS_DIR, \"xml\")"
   ]
  },
  {
   "cell_type": "code",
   "execution_count": null,
   "outputs": [],
   "source": [],
   "metadata": {
    "collapsed": false,
    "pycharm": {
     "name": "#%%\n"
    }
   }
  },
  {
   "cell_type": "code",
   "execution_count": null,
   "metadata": {},
   "outputs": [],
   "source": []
  }
 ],
 "metadata": {
  "kernelspec": {
   "display_name": "Python 3",
   "language": "python",
   "name": "python3"
  },
  "language_info": {
   "codemirror_mode": {
    "name": "ipython",
    "version": 3
   },
   "file_extension": ".py",
   "mimetype": "text/x-python",
   "name": "python",
   "nbconvert_exporter": "python",
   "pygments_lexer": "ipython3",
   "version": "3.6.9"
  }
 },
 "nbformat": 4,
 "nbformat_minor": 4
}