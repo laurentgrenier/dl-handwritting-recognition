{
 "cells": [
  {
   "cell_type": "markdown",
   "metadata": {},
   "source": [
    "# Local configuration"
   ]
  },
  {
   "cell_type": "code",
   "execution_count": 2,
   "metadata": {},
   "outputs": [],
   "source": [
    "import os"
   ]
  },
  {
   "cell_type": "code",
   "execution_count": 3,
   "metadata": {
    "pycharm": {
     "name": "#%%\n"
    }
   },
   "outputs": [],
   "source": [
    "DATA_DIR = \"/media/laurent/backup/data/kaggle/bengali\"\n",
    "\n",
    "TRAIN_FILE = os.path.join(DATA_DIR, \"train.csv\")\n",
    "CLASSMAP_FILE = os.path.join(DATA_DIR, \"class_map.csv\")\n",
    "\n",
    "TRAIN_DIR =  os.path.join(DATA_DIR, \"train\")\n",
    "TRAIN_IMAGES_DIR =  os.path.join(TRAIN_DIR, \"images\")\n",
    "\n",
    "VALIDATION_DIR =  os.path.join(DATA_DIR, \"validation\")\n",
    "VALIDATION_IMAGES_DIR =  os.path.join(VALIDATION_DIR, \"images\")\n",
    "\n",
    "TEST_DIR =  os.path.join(DATA_DIR, \"test\")\n",
    "TEST_IMAGES_DIR =  os.path.join(TEST_DIR, \"images\")\n",
    "\n",
    "SAVED_MODELS_DIR =  os.path.join(DATA_DIR, \"savedmodels\")\n",
    "\n",
    "SAMPLE_SUBMISSION_FILE =  os.path.join(DATA_DIR, \"sample_submission.csv\")\n",
    "\n",
    "AUGMENTED_TRAIN_FILE = os.path.join(DATA_DIR, \"train_augmented.csv\")"
   ]
  }
 ],
 "metadata": {
  "kernelspec": {
   "display_name": "Python 3",
   "language": "python",
   "name": "python3"
  },
  "language_info": {
   "codemirror_mode": {
    "name": "ipython",
    "version": 3
   },
   "file_extension": ".py",
   "mimetype": "text/x-python",
   "name": "python",
   "nbconvert_exporter": "python",
   "pygments_lexer": "ipython3",
   "version": "3.6.9"
  },
  "pycharm": {
   "stem_cell": {
    "cell_type": "raw",
    "metadata": {
     "collapsed": false
    },
    "source": []
   }
  }
 },
 "nbformat": 4,
 "nbformat_minor": 4
}