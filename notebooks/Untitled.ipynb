{
 "cells": [
  {
   "cell_type": "markdown",
   "metadata": {},
   "source": [
    "# TIC TAC TOE draft"
   ]
  },
  {
   "cell_type": "code",
   "execution_count": 26,
   "metadata": {},
   "outputs": [],
   "source": [
    "import numpy as np\n",
    "import math\n",
    "import itertools\n",
    "import numpy as np"
   ]
  },
  {
   "cell_type": "code",
   "execution_count": 27,
   "metadata": {},
   "outputs": [],
   "source": [
    "grid = np.zeros((3,3),dtype='uint8')"
   ]
  },
  {
   "cell_type": "code",
   "execution_count": 28,
   "metadata": {},
   "outputs": [],
   "source": [
    "p1_pawns = np.array([v for v in range(1,10,2)])\n",
    "p2_pawns = np.array([v for v in range(2,10,2)])"
   ]
  },
  {
   "cell_type": "code",
   "execution_count": 29,
   "metadata": {},
   "outputs": [
    {
     "name": "stdout",
     "output_type": "stream",
     "text": [
      "    |    |    \n",
      "  0 |  0 |  0 \n",
      "    |    |    \n",
      "----+----+----\n",
      "    |    |    \n",
      "  0 |  0 |  0 \n",
      "    |    |    \n",
      "----+----+----\n",
      "    |    |    \n",
      "  0 |  0 |  0 \n",
      "    |    |    \n"
     ]
    }
   ],
   "source": [
    "def get_grid(values, size=(3,3), cell_height=3, cell_width=3, horizontal_sep = \"-\", vertical_sep = \"|\", cross_sep = \"+\"):\n",
    "    \n",
    "    def get_cell(empty=False):        \n",
    "        value = \"{}\"\n",
    "        \n",
    "        if empty:\n",
    "            value = \"  \"\n",
    "            \n",
    "        margin_left, margin_right = round((cell_width-2) / 2), math.ceil((cell_width-2) / 2)        \n",
    "        return \" \" * margin_left + value + \" \" * margin_right \n",
    "        \n",
    "    def get_horizontal_row():                \n",
    "        margin_top, margin_bottom = round((cell_height-1) / 2), math.ceil((cell_height-1) / 2)\n",
    "        \n",
    "        return ((vertical_sep.join([get_cell(empty=True) for i in range(size[1])]) + \"\\n\") * margin_top + \\\n",
    "            vertical_sep.join([get_cell() for i in range(size[1])]) + \"\\n\" + \\\n",
    "            (vertical_sep.join([get_cell(empty=True) for i in range(size[1])]) + \"\\n\") * margin_bottom)[:-1]\n",
    "    \n",
    "    def get_horizontal_line():                \n",
    "        return cross_sep.join([horizontal_sep * cell_width for i in range(size[1])])\n",
    "    \n",
    "    def get_empty_grid():\n",
    "        return (\"\\n\"+ get_horizontal_line() + \"\\n\").join([get_horizontal_row() for i in range(size[0])])\n",
    "    \n",
    "    def fill_grid(grid, values):\n",
    "        return grid.format(*list(map(lambda v: (\" \" + str(v))[-2:], values)))\n",
    "    \n",
    "    print(fill_grid(get_empty_grid(), values))\n",
    "    \n",
    "    \n",
    "get_grid(np.zeros(9, dtype='uint8'), cell_height=3, cell_width=4)"
   ]
  },
  {
   "cell_type": "markdown",
   "metadata": {},
   "source": [
    "## Game mechanisms"
   ]
  },
  {
   "cell_type": "code",
   "execution_count": 30,
   "metadata": {},
   "outputs": [
    {
     "data": {
      "text/plain": [
       "(array([1, 3, 5, 7, 9]), array([2, 4, 6, 8]))"
      ]
     },
     "execution_count": 30,
     "metadata": {},
     "output_type": "execute_result"
    }
   ],
   "source": [
    "p1_pawns, p2_pawns"
   ]
  },
  {
   "cell_type": "code",
   "execution_count": null,
   "metadata": {},
   "outputs": [],
   "source": []
  },
  {
   "cell_type": "code",
   "execution_count": 31,
   "metadata": {},
   "outputs": [
    {
     "name": "stdout",
     "output_type": "stream",
     "text": [
      "    |    |    \n",
      "  3 |  2 |  8 \n",
      "    |    |    \n",
      "----+----+----\n",
      "    |    |    \n",
      "  4 |  5 |  6 \n",
      "    |    |    \n",
      "----+----+----\n",
      "    |    |    \n",
      "  7 |  1 |  9 \n",
      "    |    |    \n",
      "WIN ! \n"
     ]
    },
    {
     "data": {
      "text/plain": [
       "(array([13, 15, 17]), array([14,  8, 23]), 17, 20)"
      ]
     },
     "execution_count": 31,
     "metadata": {},
     "output_type": "execute_result"
    }
   ],
   "source": [
    "game = np.concatenate((p1_pawns, p2_pawns), axis=0)\n",
    "np.random.shuffle(game)\n",
    "get_grid(game, cell_height=3, cell_width=4)\n",
    "\n",
    "\n",
    "def check_state(values):\n",
    "    grid = values.reshape(3,3)\n",
    "    rows_sums = np.sum(grid, axis=1)\n",
    "    cols_sums = np.sum(grid, axis=0)\n",
    "    diag1_sum = np.array([grid[i,i] for i in range(0,grid.shape[0])]).sum()\n",
    "    diag2_sum = np.array([np.fliplr(grid)[i,i] for i in range(0,grid.shape[0])]).sum()\n",
    "    if 15 in np.concatenate((rows_sums, cols_sums, [diag1_sum], [diag2_sum]), axis=0):\n",
    "        print(\"WIN ! \")\n",
    "    return rows_sums, cols_sums, diag1_sum, diag2_sum\n",
    "    \n",
    "check_state(game)"
   ]
  },
  {
   "cell_type": "markdown",
   "metadata": {},
   "source": [
    "## Build all the possibilities of the grid"
   ]
  },
  {
   "cell_type": "code",
   "execution_count": null,
   "metadata": {},
   "outputs": [],
   "source": []
  },
  {
   "cell_type": "code",
   "execution_count": 56,
   "metadata": {},
   "outputs": [],
   "source": [
    "def get_combinations(arr):\n",
    "    \"\"\"\n",
    "    Get all the combinations and permutations of the given array\n",
    "    \"\"\"\n",
    "    # get all combinations\n",
    "    all_combinations = [(\"\".join(map(str, v)) + \"0\"*len(arr))[:len(arr)] for l in range(0,len(arr)+1) for v in list(itertools.combinations(arr, l))]   \n",
    "    \n",
    "    # get all permutations\n",
    "    all_permutations = np.unique([\"\".join(permutation) for combination in all_combinations for permutation in itertools.permutations(combination)])\n",
    "    \n",
    "    return all_permutations"
   ]
  },
  {
   "cell_type": "code",
   "execution_count": null,
   "metadata": {},
   "outputs": [],
   "source": [
    "arr = [1,2,3,4,5,6,7,8,9]\n",
    "combinations = get_combinations(arr)\n",
    "print(len(combinations))"
   ]
  },
  {
   "cell_type": "markdown",
   "metadata": {},
   "source": [
    "## Check all the victorious grid"
   ]
  },
  {
   "cell_type": "code",
   "execution_count": 33,
   "metadata": {},
   "outputs": [],
   "source": [
    "def get_victorious(grids, score=4):    \n",
    "    grids = grids.reshape(-1,int(grids.shape[1]/2),int(grids.shape[1]/2))\n",
    "    diags_scores = np.array([np.diag(g).sum() for g in grids])\n",
    "    diags_scores_inverse = np.array([np.diag(np.fliplr(g)).sum() for g in grids])\n",
    "        \n",
    "    # rows wins\n",
    "    wins_by_rows = np.where(np.sum(grids, axis=2) == score)    \n",
    "    wins_by_rows = np.array(list(zip(wins_by_rows[0],wins_by_rows[1])))\n",
    "    \n",
    "    # columns wins\n",
    "    wins_by_cols = np.where(np.sum(grids, axis=1) == score)\n",
    "    wins_by_cols = np.array(list(zip(wins_by_cols[0],wins_by_cols[1])))\n",
    "    \n",
    "    # diagonals wins\n",
    "    wins_by_diags = np.where(diags_scores == score)\n",
    "    wins_by_diags_inverse = np.where(diags_scores_inverse == score)\n",
    "    \n",
    "    win_lines = np.unique(np.append(\n",
    "        [k for k,j in wins_by_cols if not 0 in grids[k,:, j]],\n",
    "        [k for k,j in wins_by_rows if not 0 in grids[k,j,:]]))\n",
    "    \n",
    "    win_lines = np.unique(np.append(\n",
    "        win_lines,\n",
    "        [k for k in wins_by_diags[0] if not 0 in np.diag(grids[k])]))\n",
    "    \n",
    "    win_lines = np.unique(np.append(\n",
    "        win_lines,\n",
    "        [k for k in wins_by_diags_inverse[0] if not 0 in np.diag(np.fliplr(grids[k]))]))\n",
    "    \n",
    "    if len(win_lines) > 0:\n",
    "        return grids[win_lines]\n",
    "    else:\n",
    "        return []\n"
   ]
  },
  {
   "cell_type": "markdown",
   "metadata": {},
   "source": [
    "## Build the tree"
   ]
  },
  {
   "cell_type": "code",
   "execution_count": 34,
   "metadata": {},
   "outputs": [
    {
     "name": "stdout",
     "output_type": "stream",
     "text": [
      "step 1\n",
      "[(), (1,), (2,), (3,), (4,), (1, 2), (1, 3), (1, 4), (2, 3), (2, 4), (3, 4), (1, 2, 3), (1, 2, 4), (1, 3, 4), (2, 3, 4), (1, 2, 3, 4)]\n",
      "step 2\n",
      "208 game grids\n"
     ]
    }
   ],
   "source": [
    "game_grids = get_combinations([1,2,3,4])\n",
    "# victorious_grids = get_victorious(game_grids, score=15)\n",
    "\n",
    "print(\"{} game grids\".format(len(game_grids)))\n",
    "#print(\"{} victorious grids\".format(len(victorious_grids)))"
   ]
  },
  {
   "cell_type": "code",
   "execution_count": null,
   "metadata": {},
   "outputs": [],
   "source": []
  },
  {
   "cell_type": "code",
   "execution_count": null,
   "metadata": {},
   "outputs": [],
   "source": []
  },
  {
   "cell_type": "code",
   "execution_count": null,
   "metadata": {},
   "outputs": [],
   "source": []
  }
 ],
 "metadata": {
  "kernelspec": {
   "display_name": "Python 3",
   "language": "python",
   "name": "python3"
  },
  "language_info": {
   "codemirror_mode": {
    "name": "ipython",
    "version": 3
   },
   "file_extension": ".py",
   "mimetype": "text/x-python",
   "name": "python",
   "nbconvert_exporter": "python",
   "pygments_lexer": "ipython3",
   "version": "3.6.9"
  }
 },
 "nbformat": 4,
 "nbformat_minor": 4
}
